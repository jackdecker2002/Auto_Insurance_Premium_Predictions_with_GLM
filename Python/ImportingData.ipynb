{
 "cells": [
  {
   "cell_type": "code",
   "execution_count": null,
   "id": "1ed008fc",
   "metadata": {},
   "outputs": [],
   "source": [
    "## Import the necessary libraries\n",
    "import sqlite3\n",
    "import pandas as pd\n",
    "import os"
   ]
  },
  {
   "cell_type": "code",
   "execution_count": null,
   "id": "dcdc8d4c",
   "metadata": {},
   "outputs": [],
   "source": [
    "# Paths\n",
    "BASE_DIR = os.path.abspath(\"...\")                      # github_repo/\n",
    "DATA_DIR = os.path.join(BASE_DIR, \"data\", \"raw\")       # github_repo/data/raw\n",
    "DB_PATH = os.path.join(BASE_DIR, \"insurance.db\")       # github_repo/insurance.db\n",
    "SCHEMA_PATH = os.path.join(BASE_DIR, \"data_schema.md\") # github_repo/data_schema.md"
   ]
  },
  {
   "cell_type": "code",
   "execution_count": 25,
   "id": "45c089a4",
   "metadata": {},
   "outputs": [],
   "source": [
    "# Create/Connect to my database\n",
    "conn = sqlite3.connect(DB_PATH)"
   ]
  },
  {
   "cell_type": "code",
   "execution_count": null,
   "id": "c49e3cef",
   "metadata": {},
   "outputs": [
    {
     "name": "stdout",
     "output_type": "stream",
     "text": [
      "Loading c:\\Users\\jackd\\Documents\\GitHub\\SampleRepository\\data\\raw\\address.csv into table 'address'...\n",
      "Loading c:\\Users\\jackd\\Documents\\GitHub\\SampleRepository\\data\\raw\\autoinsurance_churn.csv into table 'autoinsurance_churn'...\n",
      "Loading c:\\Users\\jackd\\Documents\\GitHub\\SampleRepository\\data\\raw\\customer.csv into table 'customer'...\n",
      "Loading c:\\Users\\jackd\\Documents\\GitHub\\SampleRepository\\data\\raw\\demographic.csv into table 'demographic'...\n",
      "Loading c:\\Users\\jackd\\Documents\\GitHub\\SampleRepository\\data\\raw\\termination.csv into table 'termination'...\n"
     ]
    }
   ],
   "source": [
    "# My CSV files and table names\n",
    "files = {\n",
    "    \"address.csv\": \"address\",\n",
    "    \"autoinsurance_churn.csv\": \"autoinsurance_churn\",\n",
    "    \"customer.csv\": \"customer\",\n",
    "    \"demographic.csv\": \"demographic\",\n",
    "    \"termination.csv\": \"termination\"\n",
    "}\n",
    "\n",
    "# Load each CSV into its own SQL table\n",
    "for file, table in files.items():\n",
    "    file_path = os.path.join(DATA_DIR, file)\n",
    "    print(f\"Loading {file_path} into table '{table}'...\")\n",
    "    df = pd.read_csv(file_path)\n",
    "    df.to_sql(table, conn, if_exists=\"replace\", index=False)"
   ]
  },
  {
   "cell_type": "code",
   "execution_count": 27,
   "id": "90aa1293",
   "metadata": {},
   "outputs": [
    {
     "name": "stdout",
     "output_type": "stream",
     "text": [
      "\n",
      "✅ Tables in database:\n",
      "                  name\n",
      "0              address\n",
      "1  autoinsurance_churn\n",
      "2             customer\n",
      "3          demographic\n",
      "4          termination\n"
     ]
    }
   ],
   "source": [
    "# Check what tables we now have\n",
    "tables = pd.read_sql(\"SELECT name FROM sqlite_master WHERE type='table';\", conn)\n",
    "print(\"\\n✅ Tables in database:\")\n",
    "print(tables)"
   ]
  },
  {
   "cell_type": "code",
   "execution_count": 28,
   "id": "978f9ec0",
   "metadata": {},
   "outputs": [],
   "source": [
    "# Build schema markdown\n",
    "schema_lines = [\"# Database Schema\\n\"]\n",
    "for table in tables[\"name\"]:\n",
    "    cols = pd.read_sql(f\"PRAGMA table_info({table});\", conn)\n",
    "    schema_lines.append(f\"## {table}\\n\")\n",
    "    schema_lines.append(\"| Column | Type |\\n|--------|------|\\n\")\n",
    "    for _, row in cols.iterrows():\n",
    "        schema_lines.append(f\"| {row['name']} | {row['type']} |\\n\")\n",
    "    schema_lines.append(\"\\n\")"
   ]
  },
  {
   "cell_type": "code",
   "execution_count": 29,
   "id": "f28d28d1",
   "metadata": {},
   "outputs": [
    {
     "name": "stdout",
     "output_type": "stream",
     "text": [
      "\n",
      "📄 Schema written to c:\\Users\\jackd\\Documents\\GitHub\\SampleRepository\\data_schema.md\n"
     ]
    }
   ],
   "source": [
    "# Save schema to markdown file\n",
    "with open(SCHEMA_PATH, \"w\") as f:\n",
    "    f.writelines(schema_lines)\n",
    "\n",
    "print(f\"\\n📄 Schema written to {SCHEMA_PATH}\")\n",
    "\n",
    "conn.close()"
   ]
  }
 ],
 "metadata": {
  "kernelspec": {
   "display_name": "base",
   "language": "python",
   "name": "python3"
  },
  "language_info": {
   "codemirror_mode": {
    "name": "ipython",
    "version": 3
   },
   "file_extension": ".py",
   "mimetype": "text/x-python",
   "name": "python",
   "nbconvert_exporter": "python",
   "pygments_lexer": "ipython3",
   "version": "3.12.7"
  }
 },
 "nbformat": 4,
 "nbformat_minor": 5
}
