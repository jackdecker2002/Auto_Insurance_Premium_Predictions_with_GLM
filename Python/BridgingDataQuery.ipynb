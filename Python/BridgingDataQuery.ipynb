{
 "cells": [
  {
   "cell_type": "code",
   "execution_count": 1,
   "id": "573f4ed1",
   "metadata": {},
   "outputs": [],
   "source": [
    "## Import the necessary libraries\n",
    "import sqlite3\n",
    "import pandas as pd\n",
    "import os\n",
    "import time"
   ]
  },
  {
   "cell_type": "code",
   "execution_count": 2,
   "id": "c5a01cd6",
   "metadata": {},
   "outputs": [],
   "source": [
    "# Paths\n",
    "BASE_DIR = os.path.abspath(\"..\")                      # github_repo/\n",
    "DATA_DIR = os.path.join(BASE_DIR, \"data\", \"raw\")       # github_repo/data/raw\n",
    "DB_PATH = os.path.join(BASE_DIR, \"insurance.db\")       # github_repo/insurance.db"
   ]
  },
  {
   "cell_type": "code",
   "execution_count": 3,
   "id": "81b5aab5",
   "metadata": {},
   "outputs": [],
   "source": [
    "## Connect back to the database\n",
    "conn = sqlite3.connect(DB_PATH)\n",
    "cursor = conn.cursor()"
   ]
  },
  {
   "cell_type": "code",
   "execution_count": 4,
   "id": "1ad52b3f",
   "metadata": {},
   "outputs": [],
   "source": [
    "# Create indexes to speed up execution times\n",
    "indexes = [\n",
    "\"CREATE INDEX IF NOT EXISTS idx_customer_indiv ON customer(individual_id)\",\n",
    "\"CREATE INDEX IF NOT EXISTS idx_customer_addr ON customer(address_id)\",\n",
    "\"CREATE INDEX IF NOT EXISTS idx_address_addr ON address(address_id)\",\n",
    "\"CREATE INDEX IF NOT EXISTS idx_demo_indiv ON demographic(individual_id)\",\n",
    "\"CREATE INDEX IF NOT EXISTS idx_aic_indiv ON autoinsurance_churn(individual_id)\",\n",
    "\"CREATE INDEX IF NOT EXISTS idx_term_indiv ON termination(individual_id)\"\n",
    "]"
   ]
  },
  {
   "cell_type": "code",
   "execution_count": 5,
   "id": "7f517723",
   "metadata": {},
   "outputs": [],
   "source": [
    "# Execute each sql one by one\n",
    "for sql in indexes:\n",
    "    cursor.execute(sql)\n",
    "conn.commit()"
   ]
  },
  {
   "cell_type": "code",
   "execution_count": 6,
   "id": "a1b9930e",
   "metadata": {},
   "outputs": [],
   "source": [
    "# Define the query\n",
    "query = \"\"\"\n",
    "CREATE TABLE combined_data AS\n",
    "SELECT\n",
    "    c.individual_id,c.address_id,c.curr_ann_amt,c.days_tenure,c.cust_orig_date,COALESCE(c.age_in_years,aic.age_in_years) as age_in_years,\n",
    "    a.LATITUDE,a.LONGITUDE,a.STREET_ADDRESS,a.CITY,a.STATE,a.COUNTY,\n",
    "    aic.Churn,\n",
    "    COALESCE(aic.income,d.income) as income,COALESCE(aic.acct_suspd_date,t.ACCT_SUSPD_DATE) as ACCT_SUSPD_DATE,d.has_children,d.length_of_residence,COALESCE(d.marital_status,aic.marital_status) as marital_status,d.home_market_value,d.home_owner,d.college_degree,d.good_credit\n",
    "FROM customer c\n",
    "LEFT JOIN address a\n",
    "    ON c.address_id = a.address_id\n",
    "LEFT JOIN demographic d\n",
    "    ON c.individual_id = d.individual_id\n",
    "LEFT JOIN autoinsurance_churn aic\n",
    "    on c.individual_id = aic.individual_id\n",
    "LEFT JOIN termination t\n",
    "    on c.individual_id = t.individual_id\n",
    "WHERE\n",
    "    c.curr_ann_amt >= 0\n",
    "ORDER BY c.individual_id;\n",
    "\"\"\"\n"
   ]
  },
  {
   "cell_type": "markdown",
   "id": "d813c7e9",
   "metadata": {},
   "source": [
    "Notes:\n",
    "-I wanted to remove the personal identifiable information for data security. (Date of Birth, Social Security Number)\n",
    "-I checked income from the autoinsurance_churn table and if it wasn't found there, then I checked the demographic table\n",
    "-I checked the account suspension date from the autoinsurance_churn table and if it wasn't found there, then I checked the termination table"
   ]
  },
  {
   "cell_type": "markdown",
   "id": "bc1f456f",
   "metadata": {},
   "source": []
  },
  {
   "cell_type": "code",
   "execution_count": 7,
   "id": "3120710d",
   "metadata": {},
   "outputs": [
    {
     "data": {
      "text/plain": [
       "<sqlite3.Cursor at 0x18ec89d8f40>"
      ]
     },
     "execution_count": 7,
     "metadata": {},
     "output_type": "execute_result"
    }
   ],
   "source": [
    "# Drop old table if it exists\n",
    "cursor.execute(\"DROP TABLE IF EXISTS combined_data\")"
   ]
  },
  {
   "cell_type": "code",
   "execution_count": 8,
   "id": "d0aba07a",
   "metadata": {},
   "outputs": [
    {
     "data": {
      "text/plain": [
       "<sqlite3.Cursor at 0x18ec89d8f40>"
      ]
     },
     "execution_count": 8,
     "metadata": {},
     "output_type": "execute_result"
    }
   ],
   "source": [
    "# Create table directly from SQL join\n",
    "cursor.execute(query)"
   ]
  },
  {
   "cell_type": "code",
   "execution_count": 9,
   "id": "c3a6781f",
   "metadata": {},
   "outputs": [],
   "source": [
    "conn.commit()"
   ]
  },
  {
   "cell_type": "code",
   "execution_count": 10,
   "id": "0931229e",
   "metadata": {},
   "outputs": [],
   "source": [
    "\n",
    "conn.close()\n"
   ]
  }
 ],
 "metadata": {
  "kernelspec": {
   "display_name": "Python 3",
   "language": "python",
   "name": "python3"
  },
  "language_info": {
   "codemirror_mode": {
    "name": "ipython",
    "version": 3
   },
   "file_extension": ".py",
   "mimetype": "text/x-python",
   "name": "python",
   "nbconvert_exporter": "python",
   "pygments_lexer": "ipython3",
   "version": "3.12.7"
  }
 },
 "nbformat": 4,
 "nbformat_minor": 5
}
