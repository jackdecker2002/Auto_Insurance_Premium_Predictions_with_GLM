{
 "cells": [
  {
   "cell_type": "code",
   "execution_count": 1,
   "id": "573f4ed1",
   "metadata": {},
   "outputs": [],
   "source": [
    "## Import the necessary libraries\n",
    "import sqlite3\n",
    "import pandas as pd\n",
    "import os"
   ]
  },
  {
   "cell_type": "code",
   "execution_count": 2,
   "id": "c5a01cd6",
   "metadata": {},
   "outputs": [],
   "source": [
    "# Paths\n",
    "BASE_DIR = os.path.abspath(\"...\")                      # github_repo/\n",
    "DATA_DIR = os.path.join(BASE_DIR, \"data\", \"raw\")       # github_repo/data/raw\n",
    "DB_PATH = os.path.join(BASE_DIR, \"insurance.db\")       # github_repo/insurance.db\n",
    "SCHEMA_PATH = os.path.join(BASE_DIR, \"data_schema.md\") # github_repo/data_schema.md"
   ]
  },
  {
   "cell_type": "code",
   "execution_count": null,
   "id": "81b5aab5",
   "metadata": {},
   "outputs": [],
   "source": [
    "## Connect back to the database\n",
    "conn = sqlite3.connect(DB_PATH)"
   ]
  },
  {
   "cell_type": "code",
   "execution_count": null,
   "id": "a1b9930e",
   "metadata": {},
   "outputs": [],
   "source": [
    "# Now it is time to get my query going\n",
    "query = \"\"\"\n",
    "SELECT\n",
    "    address.ADDRESS_ID,\n",
    "    address.LATITUDE,\n",
    "    address.LONGITUDE,\n",
    "    address.STREET_ADDRESS,\n",
    "    address.CITY,\n",
    "    address.STATE,\n",
    "    address.COUNTY\n",
    "    \n",
    "\"\"\"\n"
   ]
  }
 ],
 "metadata": {
  "kernelspec": {
   "display_name": "base",
   "language": "python",
   "name": "python3"
  },
  "language_info": {
   "codemirror_mode": {
    "name": "ipython",
    "version": 3
   },
   "file_extension": ".py",
   "mimetype": "text/x-python",
   "name": "python",
   "nbconvert_exporter": "python",
   "pygments_lexer": "ipython3",
   "version": "3.12.7"
  }
 },
 "nbformat": 4,
 "nbformat_minor": 5
}
