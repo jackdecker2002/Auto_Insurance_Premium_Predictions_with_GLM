{
 "cells": [
  {
   "cell_type": "code",
   "execution_count": 1,
   "id": "573f4ed1",
   "metadata": {},
   "outputs": [],
   "source": [
    "## Import the necessary libraries\n",
    "import sqlite3\n",
    "import pandas as pd\n",
    "import os"
   ]
  },
  {
   "cell_type": "code",
   "execution_count": 2,
   "id": "c5a01cd6",
   "metadata": {},
   "outputs": [],
   "source": [
    "# Paths\n",
    "BASE_DIR = os.path.abspath(\"..\")                      # github_repo/\n",
    "DATA_DIR = os.path.join(BASE_DIR, \"data\", \"raw\")       # github_repo/data/raw\n",
    "DB_PATH = os.path.join(BASE_DIR, \"insurance.db\")       # github_repo/insurance.db"
   ]
  },
  {
   "cell_type": "code",
   "execution_count": 3,
   "id": "81b5aab5",
   "metadata": {},
   "outputs": [],
   "source": [
    "## Connect back to the database\n",
    "conn = sqlite3.connect(DB_PATH)\n",
    "cursor = conn.cursor()"
   ]
  },
  {
   "cell_type": "code",
   "execution_count": null,
   "id": "a1b9930e",
   "metadata": {},
   "outputs": [],
   "source": [
    "# Now it is time to get my query going\n",
    "query = \"\"\"\n",
    "SELECT\n",
    "    c.individual_id,c.address_id,\n",
    "    a.LATITUDE,a.LONGITUDE,a.STREET_ADDRESS,a.CITY,a.STATE,a.COUNTY,\n",
    "    aic.curr_ann_amt,aic.days_tenure,aic.cust_orig_date,aic.age_in_years,aic.date_of_birth,aic.income,aic.Churn,\n",
    "    d.has_children,d.length_of_residence,d.marital_status,d.home_market_value,d.home_owner,d.college_degree,d.good_credit,\n",
    "    t.ACCT_SUSPD_DATE\n",
    "FROM customer c\n",
    "LEFT JOIN address a\n",
    "    ON c.address_id = a.address_id\n",
    "LEFT JOIN demographic d\n",
    "    ON c.individual_id = d.individual_id\n",
    "LEFT JOIN autoinsurance_churn aic\n",
    "    on c.individual_id = aic.individual_id\n",
    "LEFT JOIN termination t\n",
    "    on c.individual_id = t.individual_id\n",
    "ORDER BY c.individual_id\n",
    "LIMIT 10;\n",
    "\"\"\"\n"
   ]
  },
  {
   "cell_type": "code",
   "execution_count": 5,
   "id": "37edbbf1",
   "metadata": {},
   "outputs": [],
   "source": [
    "cursor.execute(query)\n",
    "rows = cursor.fetchall()"
   ]
  },
  {
   "cell_type": "code",
   "execution_count": 6,
   "id": "21edf760",
   "metadata": {},
   "outputs": [
    {
     "name": "stdout",
     "output_type": "stream",
     "text": [
      "(221300017872.0, 521300005982.0, 32.578829, -96.305006, '52966 Welch Crescent', 'Kaufman', 'TX', 'Kaufman', 818.877997, 1454.0, '2018-12-09', 44, '1978-06-23', 22500.0, 0, 1.0, 15.0, 'Married', '50000 - 74999', 1, 1, 1, None)\n",
      "(221300134410.0, 521300051115.0, 32.732209, -97.000893, '46887 Lawrence Green', 'Grand Prairie', 'TX', 'Dallas', 974.199182, 1795.0, '2018-01-02', 72, '1950-05-30', 27500.0, 0, 0.0, 2.0, 'Single', '50000 - 74999', 1, 0, 0, None)\n",
      "(221300673028.0, 521300247929.0, 32.819776999999995, -96.846938, '787 Daniel Mews Suite 806', 'Dallas', 'TX', 'Dallas', 967.375112, 4818.0, '2009-09-23', 55, '1967-07-07', 42500.0, 0, 0.0, 10.0, 'Married', '75000 - 99999', 1, 0, 0, None)\n",
      "(221301573419.0, 521300570147.0, 32.684065, -97.16218, '9846 Shaw Manor Apt. 774', 'Arlington', 'TX', 'Tarrant', 992.409561, 130.0, '2022-07-25', 53, '1969-05-25', 125000.0, 1, 1.0, 6.0, 'Married', '175000 - 199999', 1, 0, 1, '2021-12-22')\n",
      "(221301622347.0, 521300588399.0, 32.751398, -97.376745, '431 David Port Apt. 164', 'Fort Worth', 'TX', 'Tarrant', 784.633494, 5896.0, '2006-10-11', 50, '1972-09-25', 87500.0, 0, 1.0, 4.0, 'Married', '225000 - 249999', 1, 1, 1, None)\n"
     ]
    }
   ],
   "source": [
    "# See first 5 results\n",
    "for row in rows[:5]:\n",
    "    print(row)\n",
    "  "
   ]
  },
  {
   "cell_type": "code",
   "execution_count": 7,
   "id": "0adc5b3d",
   "metadata": {},
   "outputs": [],
   "source": [
    "df = pd.read_sql_query(query,conn)\n",
    "conn.close()"
   ]
  },
  {
   "cell_type": "code",
   "execution_count": 8,
   "id": "fac98781",
   "metadata": {},
   "outputs": [
    {
     "name": "stdout",
     "output_type": "stream",
     "text": [
      "   INDIVIDUAL_ID    ADDRESS_ID   LATITUDE  LONGITUDE  \\\n",
      "0   2.213000e+11  5.213000e+11  32.578829 -96.305006   \n",
      "1   2.213001e+11  5.213001e+11  32.732209 -97.000893   \n",
      "2   2.213007e+11  5.213002e+11  32.819777 -96.846938   \n",
      "3   2.213016e+11  5.213006e+11  32.684065 -97.162180   \n",
      "4   2.213016e+11  5.213006e+11  32.751398 -97.376745   \n",
      "5   2.213027e+11  5.213010e+11        NaN        NaN   \n",
      "6   2.213007e+11  5.213003e+11  33.006985 -96.893972   \n",
      "7   2.213022e+11  5.213008e+11  33.085901 -96.648596   \n",
      "8   2.213029e+11  5.213011e+11  32.828468 -97.173721   \n",
      "9   2.213012e+11  5.213005e+11  32.753978 -96.785564   \n",
      "\n",
      "                STREET_ADDRESS           CITY STATE   COUNTY  curr_ann_amt  \\\n",
      "0         52966 Welch Crescent        Kaufman    TX  Kaufman    818.877997   \n",
      "1         46887 Lawrence Green  Grand Prairie    TX   Dallas    974.199182   \n",
      "2    787 Daniel Mews Suite 806         Dallas    TX   Dallas    967.375112   \n",
      "3     9846 Shaw Manor Apt. 774      Arlington    TX  Tarrant    992.409561   \n",
      "4      431 David Port Apt. 164     Fort Worth    TX  Tarrant    784.633494   \n",
      "5      11358 Stephanie Station         Dallas    TX   Dallas    909.916163   \n",
      "6  9942 Rebecca Drive Apt. 512     Carrollton    TX   Denton   1084.048271   \n",
      "7         58187 Roberson Walks          Allen    TX   Collin   1277.370767   \n",
      "8              2458 Darren Key        Bedford    TX  Tarrant    917.201036   \n",
      "9  32131 Robert Pike Suite 462         Dallas    TX   Dallas   1095.390747   \n",
      "\n",
      "   days_tenure  ...    income  Churn HAS_CHILDREN  LENGTH_OF_RESIDENCE  \\\n",
      "0       1454.0  ...   22500.0      0          1.0                 15.0   \n",
      "1       1795.0  ...   27500.0      0          0.0                  2.0   \n",
      "2       4818.0  ...   42500.0      0          0.0                 10.0   \n",
      "3        130.0  ...  125000.0      1          1.0                  6.0   \n",
      "4       5896.0  ...   87500.0      0          1.0                  4.0   \n",
      "5        484.0  ...   52500.0      0          0.0                  2.0   \n",
      "6       2896.0  ...  125000.0      0          1.0                  8.0   \n",
      "7       4096.0  ...   47500.0      0          0.0                 12.0   \n",
      "8       2107.0  ...   47500.0      1          0.0                  6.0   \n",
      "9       3387.0  ...   32500.0      0          0.0                 15.0   \n",
      "\n",
      "   MARITAL_STATUS  HOME_MARKET_VALUE  HOME_OWNER COLLEGE_DEGREE GOOD_CREDIT  \\\n",
      "0         Married      50000 - 74999           1              1           1   \n",
      "1          Single      50000 - 74999           1              0           0   \n",
      "2         Married      75000 - 99999           1              0           0   \n",
      "3         Married    175000 - 199999           1              0           1   \n",
      "4         Married    225000 - 249999           1              1           1   \n",
      "5         Married    125000 - 149999           1              0           1   \n",
      "6         Married    100000 - 124999           1              0           1   \n",
      "7         Married    125000 - 149999           1              0           1   \n",
      "8          Single      50000 - 74999           1              1           1   \n",
      "9         Married      25000 - 49999           1              0           0   \n",
      "\n",
      "   ACCT_SUSPD_DATE  \n",
      "0             None  \n",
      "1             None  \n",
      "2             None  \n",
      "3       2021-12-22  \n",
      "4             None  \n",
      "5             None  \n",
      "6             None  \n",
      "7             None  \n",
      "8       2022-12-01  \n",
      "9             None  \n",
      "\n",
      "[10 rows x 23 columns]\n"
     ]
    }
   ],
   "source": [
    "print(df)"
   ]
  }
 ],
 "metadata": {
  "kernelspec": {
   "display_name": "Python 3",
   "language": "python",
   "name": "python3"
  },
  "language_info": {
   "codemirror_mode": {
    "name": "ipython",
    "version": 3
   },
   "file_extension": ".py",
   "mimetype": "text/x-python",
   "name": "python",
   "nbconvert_exporter": "python",
   "pygments_lexer": "ipython3",
   "version": "3.12.7"
  }
 },
 "nbformat": 4,
 "nbformat_minor": 5
}
